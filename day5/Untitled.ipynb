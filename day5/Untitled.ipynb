{
 "cells": [
  {
   "cell_type": "code",
   "execution_count": 9,
   "metadata": {},
   "outputs": [],
   "source": [
    "import sys\n",
    "import rospy\n",
    "import moveit_commander\n",
    "import math"
   ]
  },
  {
   "cell_type": "code",
   "execution_count": 3,
   "metadata": {},
   "outputs": [
    {
     "data": {
      "text/plain": [
       "['endeffector', 'manipulator']"
      ]
     },
     "execution_count": 3,
     "metadata": {},
     "output_type": "execute_result"
    }
   ],
   "source": [
    "rospy.init_node('test_ur', anonymous = True)\n",
    "moveit_commander.roscpp_initialize(sys.argv)\n",
    "\n",
    "robot = moveit_commander.RobotCommander()\n",
    "scene = moveit_commander.PlanningSceneInterface()\n",
    "\n",
    "robot.get_group_names()"
   ]
  },
  {
   "cell_type": "code",
   "execution_count": 4,
   "metadata": {},
   "outputs": [
    {
     "data": {
      "text/plain": [
       "'world'"
      ]
     },
     "execution_count": 4,
     "metadata": {},
     "output_type": "execute_result"
    }
   ],
   "source": [
    "group_name = robot.get_group_names()\n",
    "move_group = moveit_commander.MoveGroupCommander(group_name[1])\n",
    "planning_frame = move_group.get_planning_frame()\n",
    "planning_frame"
   ]
  },
  {
   "cell_type": "code",
   "execution_count": 5,
   "metadata": {},
   "outputs": [
    {
     "data": {
      "text/plain": [
       "'ee_link'"
      ]
     },
     "execution_count": 5,
     "metadata": {},
     "output_type": "execute_result"
    }
   ],
   "source": [
    "eef_link = move_group.get_end_effector_link()\n",
    "eef_link"
   ]
  },
  {
   "cell_type": "code",
   "execution_count": 6,
   "metadata": {},
   "outputs": [
    {
     "data": {
      "text/plain": [
       "joint_state: \n",
       "  header: \n",
       "    seq: 0\n",
       "    stamp: \n",
       "      secs: 0\n",
       "      nsecs:         0\n",
       "    frame_id: \"world\"\n",
       "  name: [shoulder_pan_joint, shoulder_lift_joint, elbow_joint, wrist_1_joint, wrist_2_joint,\n",
       "  wrist_3_joint]\n",
       "  position: [0.00044910741291115386, 0.013015068048276568, -9.574200384143694e-05, 0.0006836268533607637, -2.5184473890327297e-05, -2.1586318553090678e-05]\n",
       "  velocity: []\n",
       "  effort: []\n",
       "multi_dof_joint_state: \n",
       "  header: \n",
       "    seq: 0\n",
       "    stamp: \n",
       "      secs: 0\n",
       "      nsecs:         0\n",
       "    frame_id: \"world\"\n",
       "  joint_names: []\n",
       "  transforms: []\n",
       "  twist: []\n",
       "  wrench: []\n",
       "attached_collision_objects: []\n",
       "is_diff: False"
      ]
     },
     "execution_count": 6,
     "metadata": {},
     "output_type": "execute_result"
    }
   ],
   "source": [
    "robot.get_current_state()"
   ]
  },
  {
   "cell_type": "code",
   "execution_count": 7,
   "metadata": {},
   "outputs": [
    {
     "data": {
      "text/plain": [
       "True"
      ]
     },
     "execution_count": 7,
     "metadata": {},
     "output_type": "execute_result"
    }
   ],
   "source": [
    "move_group.set_named_target(\"up\")\n",
    "plan = move_group.plan()\n",
    "move_group.execute(plan, wait=True)"
   ]
  },
  {
   "cell_type": "code",
   "execution_count": 8,
   "metadata": {},
   "outputs": [],
   "source": [
    "def move_joints(move_group, goal):\n",
    "    move_group.go(goal, wait=True)\n",
    "    move_group.stop()\n",
    "    \n",
    "def get_joint_state(move_group):\n",
    "    joint_state = move_group.get_current_joint_values()\n",
    "    print \"--> current joint state as follows (rad) : \"\n",
    "    print joint_state\n",
    "    print \"--> current joint state as follows (degree) : \"\n",
    "    print [joint*180/math.pi for joint in joint_state]"
   ]
  },
  {
   "cell_type": "code",
   "execution_count": 10,
   "metadata": {},
   "outputs": [
    {
     "name": "stdout",
     "output_type": "stream",
     "text": [
      "--> current joint state as follows (rad) : \n",
      "[-0.00023005122511232656, -1.5706878269976432, 6.860179076895179e-05, -1.570630772857137, -9.19745959926388e-05, -7.610947332548079e-05]\n",
      "--> current joint state as follows (degree) : \n",
      "[-0.01318096427075033, -89.99378341953937, 0.0039305930781004675, -89.99051445808459, -0.005269756172799058, -0.004360751602513568]\n",
      "--> current joint state as follows (rad) : \n",
      "[1.5708862846984788, -1.7452735499333407, 1.5706975359265334, -1.7454050073772107, -1.5707722398231567, -3.366458954978668e-05]\n",
      "--> current joint state as follows (degree) : \n",
      "[90.0051542082091, -99.99680850699517, 89.99433970018836, -100.0043404637145, -89.99861991817805, -0.0019288389002429932]\n"
     ]
    }
   ],
   "source": [
    "get_joint_state(move_group)\n",
    "goal = [n*math.pi/180 for n in [90., -100., 90., -100., -90., 0.]]\n",
    "\n",
    "move_joints(move_group, goal)\n",
    "get_joint_state(move_group)"
   ]
  },
  {
   "cell_type": "code",
   "execution_count": 11,
   "metadata": {},
   "outputs": [
    {
     "name": "stdout",
     "output_type": "stream",
     "text": [
      "header: \n",
      "  seq: 0\n",
      "  stamp: \n",
      "    secs: 908\n",
      "    nsecs: 204000000\n",
      "  frame_id: \"world\"\n",
      "pose: \n",
      "  position: \n",
      "    x: -0.109190628394\n",
      "    y: 0.429596430625\n",
      "    z: 0.530885967361\n",
      "  orientation: \n",
      "    x: -0.405568474149\n",
      "    y: 0.405522260213\n",
      "    z: 0.579291920094\n",
      "    w: 0.579212206849\n"
     ]
    }
   ],
   "source": [
    "def get_goal_pose(move_group):\n",
    "    joint_state = move_group.get_current_pose()\n",
    "    print joint_state\n",
    "    \n",
    "get_goal_pose(move_group)"
   ]
  },
  {
   "cell_type": "code",
   "execution_count": 19,
   "metadata": {},
   "outputs": [],
   "source": [
    "import geometry_msgs.msg\n",
    "\n",
    "pose_goal = geometry_msgs.msg.Pose()\n",
    "\n",
    "pose_goal.position.x = -0.109\n",
    "pose_goal.position.y = -0.1\n",
    "pose_goal.position.z = -0.618\n",
    "\n",
    "pose_goal.orientation.x = -0.3535\n",
    "pose_goal.orientation.y = 0.3535\n",
    "pose_goal.orientation.z = 0.6123\n",
    "pose_goal.orientation.w = 0.6124\n",
    "\n",
    "move_group.set_pose_target(pose_goal)"
   ]
  },
  {
   "cell_type": "code",
   "execution_count": 20,
   "metadata": {},
   "outputs": [],
   "source": [
    "plan = move_group.go(wait=True)\n",
    "move_group.stop()\n",
    "move_group.clear_pose_targets()"
   ]
  }
 ],
 "metadata": {
  "kernelspec": {
   "display_name": "Python 2",
   "language": "python",
   "name": "python2"
  },
  "language_info": {
   "codemirror_mode": {
    "name": "ipython",
    "version": 2
   },
   "file_extension": ".py",
   "mimetype": "text/x-python",
   "name": "python",
   "nbconvert_exporter": "python",
   "pygments_lexer": "ipython2",
   "version": "2.7.17"
  }
 },
 "nbformat": 4,
 "nbformat_minor": 2
}
